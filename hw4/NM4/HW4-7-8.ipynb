{
 "cells": [
  {
   "cell_type": "code",
   "execution_count": 32,
   "metadata": {},
   "outputs": [],
   "source": [
    "import numpy as np\n",
    "import networkx as nx\n",
    "import matplotlib.pyplot as plt"
   ]
  },
  {
   "cell_type": "code",
   "execution_count": 7,
   "metadata": {},
   "outputs": [],
   "source": [
    "class DirectedGraph:\n",
    "    \n",
    "    def __init__(self,number_of_nodes):\n",
    "        self.__number_of_nodes = number_of_nodes\n",
    "        self.adjacency_matrix = np.zeros( (number_of_nodes, number_of_nodes) )\n",
    "\n",
    "    def add_edge(self, origin_node, destination_node):\n",
    "        self.adjacency_matrix[\n",
    "            origin_node,\n",
    "            destination_node\n",
    "        ] = 1\n",
    "\n",
    "    def out_degree(self, origin_node):\n",
    "        return(\n",
    "            len(self.edges_from(origin_node=origin_node))\n",
    "        )\n",
    "\n",
    "\n",
    "    \n",
    "    def edges_from(self, origin_node):\n",
    "        ''' This method should return a list of all the nodes u such that the edge (origin_node,u) is\n",
    "        part of the graph.'''\n",
    "        return(\n",
    "            list(np.where(self.adjacency_matrix[origin_node, :] == 1)[0])\n",
    "        )\n",
    "    \n",
    "    def check_edge(self, origin_node, destination_node):\n",
    "        ''' This method should return true is there is an edge between origin_node and destination_node\n",
    "        and destination_node, and false otherwise'''\n",
    "        return(\n",
    "            self.adjacency_matrix[origin_node, destination_node] == 1\n",
    "        )\n",
    "\n",
    "    def number_of_nodes(self):\n",
    "        ''' This method should return the number of nodes in the graph'''\n",
    "        return(\n",
    "            self.__number_of_nodes\n",
    "        )\n",
    "\n",
    "    def get_nodes(self):\n",
    "        return(\n",
    "            list(range(self.number_of_nodes()))\n",
    "        )\n",
    "\n",
    "    def edges_to(self, destination_node):\n",
    "        return (\n",
    "            list(np.where(self.adjacency_matrix[:, destination_node] == 1)[0])\n",
    "        )\n"
   ]
  },
  {
   "cell_type": "code",
   "execution_count": 8,
   "metadata": {},
   "outputs": [],
   "source": [
    "def scaled_page_rank(graph, num_iter, eps = 1/7.0):\n",
    "    ''' This method, given a directed graph, should run the epsilon-scaled page-rank\n",
    "    algorithm for num-iter iterations and return a mapping (dictionary) between a node and its weight. \n",
    "    In the case of 0 iterations, all nodes should have weight 1/number_of_nodes'''\n",
    "\n",
    "    # Init page rank values\n",
    "    page_ranks = dict(zip(\n",
    "        graph.get_nodes(),\n",
    "        np.full((1, graph.number_of_nodes()), 1 / graph.number_of_nodes())[0]\n",
    "    ))\n",
    "    if num_iter == 0:\n",
    "        return(page_ranks)\n",
    "\n",
    "\n",
    "    # Calculate progress breakpoints\n",
    "    breakpoints = [int(i) for i in np.round(np.linspace(1, num_iter, num=10), 0)]\n",
    "\n",
    "    # Begin iterating\n",
    "    for iter in range(num_iter):\n",
    "        # debugging help...\n",
    "        if iter in breakpoints:\n",
    "            print(\"{}% completed...\".format(\n",
    "                breakpoints.index(iter) * 10\n",
    "            ))\n",
    "\n",
    "        # Init current iteration page ranks\n",
    "        tmp_page_ranks = dict()\n",
    "\n",
    "        for node in page_ranks.keys():\n",
    "            # Init and calculate dangling nodes value\n",
    "            dangling_value = 0\n",
    "            if len(graph.edges_from(origin_node=node))==0:\n",
    "                dangling_value = page_ranks[node]\n",
    "\n",
    "            # Run current page rank calculation\n",
    "            tmp_page_ranks[node] = (eps/graph.number_of_nodes()) + \\\n",
    "                               (1-eps) * \\\n",
    "                               (\n",
    "                                   np.sum(\n",
    "                                       [\n",
    "                                           page_ranks[other_node] / graph.out_degree(other_node)\n",
    "                                           for other_node in graph.edges_to(node)\n",
    "                                       ]\n",
    "                                   ) + dangling_value\n",
    "                               )\n",
    "\n",
    "            # alternative implementation (found on Priceton's site)\n",
    "            # tmp_page_ranks[node] = (1 - eps) + \\\n",
    "            #                        (eps) * \\\n",
    "            #                        (\n",
    "            #                            np.sum(\n",
    "            #                                [\n",
    "            #                                    page_ranks[other_node] / graph.out_degree(other_node)\n",
    "            #                                    for other_node in graph.edges_to(node)\n",
    "            #                                ]\n",
    "            #                            ) +\n",
    "            #                            dangling_value\n",
    "            #                        )\n",
    "        page_ranks = tmp_page_ranks\n",
    "\n",
    "    # Check output\n",
    "    if round(sum(page_ranks.values()), 2) != 1.0:\n",
    "        raise ValueError(\"Sum of page rank is not close enough to 1.\")\n",
    "\n",
    "    return(page_ranks)\n"
   ]
  },
  {
   "cell_type": "code",
   "execution_count": 9,
   "metadata": {},
   "outputs": [],
   "source": [
    "def graph_15_1_left():\n",
    "    ''' This method, should construct and return a DirectedGraph encoding the left example in fig 15.1\n",
    "    Use the following indexes: A:0, B:1, C:2, Z:3 '''\n",
    "    g = DirectedGraph(4)\n",
    "    g.add_edge(0, 1)\n",
    "    g.add_edge(1, 2)\n",
    "    g.add_edge(2, 0)\n",
    "    g.add_edge(0, 3)\n",
    "    return(g)\n"
   ]
  },
  {
   "cell_type": "code",
   "execution_count": 10,
   "metadata": {},
   "outputs": [],
   "source": [
    "def graph_15_1_right():\n",
    "    ''' This method, should construct and return a DirectedGraph encoding the right example in fig 15.1\n",
    "    Use the following indexes: A:0, B:1, C:2, Z1:3, Z2:4'''\n",
    "    g = DirectedGraph(5)\n",
    "    g.add_edge(0, 1)\n",
    "    g.add_edge(1, 2)\n",
    "    g.add_edge(2, 0)\n",
    "    g.add_edge(0, 3)\n",
    "    g.add_edge(0, 4)\n",
    "    g.add_edge(3, 4)\n",
    "    g.add_edge(4, 3)\n",
    "    return (g)\n"
   ]
  },
  {
   "cell_type": "code",
   "execution_count": 11,
   "metadata": {},
   "outputs": [],
   "source": [
    "def graph_15_2():\n",
    "    ''' This method, should construct and return a DirectedGraph encoding example 15.2\n",
    "        Use the following indexes: A:0, B:1, C:2, A':3, B':4, C':5'''\n",
    "    g = DirectedGraph(6)\n",
    "    g.add_edge(0, 1)\n",
    "    g.add_edge(1, 2)\n",
    "    g.add_edge(2, 0)\n",
    "    g.add_edge(3, 4)\n",
    "    g.add_edge(4, 5)\n",
    "    g.add_edge(5, 3)\n",
    "    return (g)\n"
   ]
  },
  {
   "cell_type": "code",
   "execution_count": 12,
   "metadata": {},
   "outputs": [],
   "source": [
    "def extra_graph_1():\n",
    "    ''' This method, should construct and return a DirectedGraph of your choice with at least 10 nodes'''    \n",
    "    g = DirectedGraph(12)\n",
    "    g.add_edge(0, 1)\n",
    "    g.add_edge(1, 0)\n",
    "    g.add_edge(0, 2)\n",
    "    g.add_edge(2, 0)\n",
    "    g.add_edge(0, 3)\n",
    "    g.add_edge(3, 0)\n",
    "\n",
    "    g.add_edge(3, 4)\n",
    "    g.add_edge(3, 5)\n",
    "    g.add_edge(3, 6)\n",
    "    g.add_edge(3, 7)\n",
    "\n",
    "    g.add_edge(3, 8)\n",
    "    g.add_edge(3, 9)\n",
    "    g.add_edge(3, 10)\n",
    "    g.add_edge(3, 11)\n",
    "\n",
    "    g.add_edge(8, 0)\n",
    "    g.add_edge(9, 0)\n",
    "    g.add_edge(10, 0)\n",
    "    g.add_edge(11, 0)\n",
    "\n",
    "    return(g)\n"
   ]
  },
  {
   "cell_type": "code",
   "execution_count": 13,
   "metadata": {},
   "outputs": [
    {
     "name": "stdout",
     "output_type": "stream",
     "text": [
      "0% completed...\n",
      "10% completed...\n",
      "20% completed...\n",
      "30% completed...\n",
      "40% completed...\n",
      "50% completed...\n",
      "60% completed...\n",
      "70% completed...\n",
      "80% completed...\n"
     ]
    }
   ],
   "source": [
    "extra_graph_1_weights = scaled_page_rank(graph=extra_graph_1(), num_iter = 50)\n"
   ]
  },
  {
   "cell_type": "code",
   "execution_count": 14,
   "metadata": {},
   "outputs": [],
   "source": [
    "def extra_graph_2():\n",
    "    ''' This method, should construct and return a DirectedGraph of your choice with at least 10 nodes'''    \n",
    "    g = DirectedGraph(11)\n",
    "\n",
    "    g.add_edge(0, 2)\n",
    "    g.add_edge(2, 0)\n",
    "    g.add_edge(1, 2)\n",
    "    g.add_edge(2, 3)\n",
    "    g.add_edge(3, 4)\n",
    "    g.add_edge(4, 6)\n",
    "    g.add_edge(6, 4)\n",
    "    g.add_edge(6, 3)\n",
    "    g.add_edge(5, 6)\n",
    "\n",
    "    g.add_edge(3, 7)\n",
    "    g.add_edge(3, 8)\n",
    "    g.add_edge(3, 9)\n",
    "\n",
    "    g.add_edge(7, 10)\n",
    "    g.add_edge(8, 10)\n",
    "    g.add_edge(9, 10)\n",
    "\n",
    "    return(g)\n"
   ]
  },
  {
   "cell_type": "code",
   "execution_count": 15,
   "metadata": {},
   "outputs": [
    {
     "name": "stdout",
     "output_type": "stream",
     "text": [
      "0% completed...\n",
      "10% completed...\n",
      "20% completed...\n",
      "30% completed...\n",
      "40% completed...\n",
      "50% completed...\n",
      "60% completed...\n",
      "70% completed...\n",
      "80% completed...\n"
     ]
    }
   ],
   "source": [
    "extra_graph_2_weights = scaled_page_rank(graph=extra_graph_2(), num_iter = 50)\n"
   ]
  },
  {
   "cell_type": "code",
   "execution_count": 16,
   "metadata": {},
   "outputs": [],
   "source": [
    "def facebook_graph(filename = \"facebook_combined.txt\"):\n",
    "    ''' This method should return a DIRECTED version of the facebook graph as an instance of the DirectedGraph class.\n",
    "    In particular, if u and v are friends, there should be an edge between u and v and an edge between v and u.'''\n",
    "    with open(filename, mode=\"r\") as f:\n",
    "        content = f.readlines()\n",
    "    content = [x.strip().split(' ') for x in content]\n",
    "\n",
    "    g = DirectedGraph(4039)\n",
    "    for edge in content:\n",
    "        g.add_edge(origin_node=int(edge[0]), destination_node=int(edge[1]))\n",
    "        g.add_edge(origin_node=int(edge[1]), destination_node=int(edge[0]))\n",
    "\n",
    "    return(g)\n"
   ]
  },
  {
   "cell_type": "code",
   "execution_count": 17,
   "metadata": {},
   "outputs": [],
   "source": [
    "def question8b():\n",
    "\n",
    "    # Load Facebook graph\n",
    "    filepath = \"~/data/facebook_combined.txt\"\n",
    "    FB_g = facebook_graph(filename=filepath)\n",
    "\n",
    "    # Run PR for 20 iterations\n",
    "    pr = scaled_page_rank(graph=FB_g, num_iter=20)\n",
    "\n",
    "    return(pr)\n"
   ]
  },
  {
   "cell_type": "code",
   "execution_count": 18,
   "metadata": {},
   "outputs": [],
   "source": [
    "testGraph = DirectedGraph(5)"
   ]
  },
  {
   "cell_type": "code",
   "execution_count": 19,
   "metadata": {},
   "outputs": [],
   "source": [
    "assert testGraph.number_of_nodes() == 5"
   ]
  },
  {
   "cell_type": "code",
   "execution_count": 20,
   "metadata": {},
   "outputs": [],
   "source": [
    "assert testGraph.check_edge(0,1) == False"
   ]
  },
  {
   "cell_type": "code",
   "execution_count": 21,
   "metadata": {},
   "outputs": [],
   "source": [
    "testGraph.add_edge(0,1)\n"
   ]
  },
  {
   "cell_type": "code",
   "execution_count": 22,
   "metadata": {},
   "outputs": [],
   "source": [
    "assert testGraph.check_edge(0,1) == True"
   ]
  },
  {
   "cell_type": "code",
   "execution_count": 23,
   "metadata": {},
   "outputs": [],
   "source": [
    "weights = scaled_page_rank(testGraph,0)"
   ]
  },
  {
   "cell_type": "code",
   "execution_count": 24,
   "metadata": {},
   "outputs": [],
   "source": [
    "assert weights[2] == 1/5.0\n"
   ]
  },
  {
   "cell_type": "code",
   "execution_count": 26,
   "metadata": {},
   "outputs": [],
   "source": [
    "assert graph_15_1_left().number_of_nodes() == 4"
   ]
  },
  {
   "cell_type": "code",
   "execution_count": null,
   "metadata": {},
   "outputs": [],
   "source": []
  },
  {
   "cell_type": "code",
   "execution_count": null,
   "metadata": {},
   "outputs": [],
   "source": []
  },
  {
   "cell_type": "code",
   "execution_count": 27,
   "metadata": {},
   "outputs": [],
   "source": [
    "test_graphs = {\n",
    "    \"graph_15_1_left\":graph_15_1_left(),\n",
    "    \"graph_15_1_right\":graph_15_1_right(),\n",
    "    \"graph_15_2\":graph_15_2(),\n",
    "    \"extra_graph_1\":extra_graph_1(),\n",
    "    \"extra_graph_2\":extra_graph_2()\n",
    "}"
   ]
  },
  {
   "cell_type": "code",
   "execution_count": 28,
   "metadata": {},
   "outputs": [],
   "source": [
    "graph_name = list(test_graphs.keys())[0]"
   ]
  },
  {
   "cell_type": "code",
   "execution_count": 29,
   "metadata": {},
   "outputs": [],
   "source": [
    "g = test_graphs[graph_name]"
   ]
  },
  {
   "cell_type": "code",
   "execution_count": 30,
   "metadata": {},
   "outputs": [
    {
     "name": "stdout",
     "output_type": "stream",
     "text": [
      "0% completed...\n",
      "10% completed...\n",
      "20% completed...\n",
      "30% completed...\n",
      "40% completed...\n",
      "50% completed...\n",
      "60% completed...\n",
      "70% completed...\n",
      "80% completed...\n"
     ]
    }
   ],
   "source": [
    "pr = scaled_page_rank(graph=g, num_iter = 100, eps=3/7.0)"
   ]
  },
  {
   "cell_type": "code",
   "execution_count": 33,
   "metadata": {},
   "outputs": [],
   "source": [
    "nx.draw(\n",
    "     nx.DiGraph(g.adjacency_matrix),\n",
    "     labels = dict(zip(pr.keys(),[\"{} : PR={}\".format(node, round(pr[node], 2)) for node in pr])),\n",
    "     arrows=True,\n",
    "     node_size=[i*100000 for i in list(pr.values())],\n",
    "     node_color='b',\n",
    "     alpha=0.3\n",
    " )"
   ]
  },
  {
   "cell_type": "code",
   "execution_count": 35,
   "metadata": {},
   "outputs": [
    {
     "data": {
      "image/png": "[encoded data removed]",
      "text/plain": [
       "<matplotlib.figure.Figure at 0x109901f60>"
      ]
     },
     "metadata": {},
     "output_type": "display_data"
    }
   ],
   "source": [
    "plt.suptitle(\"Example \" + graph_name)\n",
    "plt.show()\n"
   ]
  },
  {
   "cell_type": "code",
   "execution_count": null,
   "metadata": {},
   "outputs": [],
   "source": []
  },
  {
   "cell_type": "code",
   "execution_count": 36,
   "metadata": {},
   "outputs": [
    {
     "ename": "FileNotFoundError",
     "evalue": "[Errno 2] No such file or directory: '/Users/davidhachuel/Google Drive/Cornell Tech/FALL_2017/CS_5854_NETWORKS_&_MARKETS/HW4/data/facebook_combined.txt'",
     "output_type": "error",
     "traceback": [
      "\u001b[0;31m---------------------------------------------------------------------------\u001b[0m",
      "\u001b[0;31mFileNotFoundError\u001b[0m                         Traceback (most recent call last)",
      "\u001b[0;32m<ipython-input-36-85f854b7618c>\u001b[0m in \u001b[0;36m<module>\u001b[0;34m()\u001b[0m\n\u001b[0;32m----> 1\u001b[0;31m \u001b[0mpr\u001b[0m \u001b[0;34m=\u001b[0m \u001b[0mquestion8b\u001b[0m\u001b[0;34m(\u001b[0m\u001b[0;34m)\u001b[0m\u001b[0;34m\u001b[0m\u001b[0m\n\u001b[0m\u001b[1;32m      2\u001b[0m \u001b[0mpr_sorted\u001b[0m \u001b[0;34m=\u001b[0m \u001b[0msorted\u001b[0m\u001b[0;34m(\u001b[0m\u001b[0mpr\u001b[0m\u001b[0;34m.\u001b[0m\u001b[0mitems\u001b[0m\u001b[0;34m(\u001b[0m\u001b[0;34m)\u001b[0m\u001b[0;34m,\u001b[0m \u001b[0mkey\u001b[0m\u001b[0;34m=\u001b[0m\u001b[0;32mlambda\u001b[0m \u001b[0mx\u001b[0m\u001b[0;34m:\u001b[0m\u001b[0mx\u001b[0m\u001b[0;34m[\u001b[0m\u001b[0;36m1\u001b[0m\u001b[0;34m]\u001b[0m\u001b[0;34m)\u001b[0m\u001b[0;34m\u001b[0m\u001b[0m\n\u001b[1;32m      3\u001b[0m \u001b[0mhigh_20_fb_pr_idx\u001b[0m \u001b[0;34m=\u001b[0m \u001b[0;34m[\u001b[0m\u001b[0mitem\u001b[0m\u001b[0;34m[\u001b[0m\u001b[0;36m0\u001b[0m\u001b[0;34m]\u001b[0m \u001b[0;32mfor\u001b[0m \u001b[0mitem\u001b[0m \u001b[0;32min\u001b[0m \u001b[0mpr_sorted\u001b[0m\u001b[0;34m[\u001b[0m\u001b[0;34m-\u001b[0m\u001b[0;36m20\u001b[0m\u001b[0;34m:\u001b[0m\u001b[0;34m]\u001b[0m\u001b[0;34m]\u001b[0m\u001b[0;34m\u001b[0m\u001b[0m\n\u001b[1;32m      4\u001b[0m \u001b[0mlow_20_fb_pr_idx\u001b[0m \u001b[0;34m=\u001b[0m \u001b[0;34m[\u001b[0m\u001b[0mitem\u001b[0m\u001b[0;34m[\u001b[0m\u001b[0;36m0\u001b[0m\u001b[0;34m]\u001b[0m \u001b[0;32mfor\u001b[0m \u001b[0mitem\u001b[0m \u001b[0;32min\u001b[0m \u001b[0mpr_sorted\u001b[0m\u001b[0;34m[\u001b[0m\u001b[0;36m0\u001b[0m\u001b[0;34m:\u001b[0m\u001b[0;36m20\u001b[0m\u001b[0;34m]\u001b[0m\u001b[0;34m]\u001b[0m\u001b[0;34m\u001b[0m\u001b[0m\n",
      "\u001b[0;32m<ipython-input-17-6ee86e6491c8>\u001b[0m in \u001b[0;36mquestion8b\u001b[0;34m()\u001b[0m\n\u001b[1;32m      3\u001b[0m     \u001b[0;31m# Load Facebook graph\u001b[0m\u001b[0;34m\u001b[0m\u001b[0;34m\u001b[0m\u001b[0m\n\u001b[1;32m      4\u001b[0m     \u001b[0mfilepath\u001b[0m \u001b[0;34m=\u001b[0m \u001b[0;34m\"/Users/davidhachuel/Google Drive/Cornell Tech/FALL_2017/CS_5854_NETWORKS_&_MARKETS/HW4/data/facebook_combined.txt\"\u001b[0m\u001b[0;34m\u001b[0m\u001b[0m\n\u001b[0;32m----> 5\u001b[0;31m     \u001b[0mFB_g\u001b[0m \u001b[0;34m=\u001b[0m \u001b[0mfacebook_graph\u001b[0m\u001b[0;34m(\u001b[0m\u001b[0mfilename\u001b[0m\u001b[0;34m=\u001b[0m\u001b[0mfilepath\u001b[0m\u001b[0;34m)\u001b[0m\u001b[0;34m\u001b[0m\u001b[0m\n\u001b[0m\u001b[1;32m      6\u001b[0m \u001b[0;34m\u001b[0m\u001b[0m\n\u001b[1;32m      7\u001b[0m     \u001b[0;31m# Run PR for 20 iterations\u001b[0m\u001b[0;34m\u001b[0m\u001b[0;34m\u001b[0m\u001b[0m\n",
      "\u001b[0;32m<ipython-input-16-4d63d8626e8a>\u001b[0m in \u001b[0;36mfacebook_graph\u001b[0;34m(filename)\u001b[0m\n\u001b[1;32m      2\u001b[0m     ''' This method should return a DIRECTED version of the facebook graph as an instance of the DirectedGraph class.\n\u001b[1;32m      3\u001b[0m     In particular, if u and v are friends, there should be an edge between u and v and an edge between v and u.'''\n\u001b[0;32m----> 4\u001b[0;31m     \u001b[0;32mwith\u001b[0m \u001b[0mopen\u001b[0m\u001b[0;34m(\u001b[0m\u001b[0mfilename\u001b[0m\u001b[0;34m,\u001b[0m \u001b[0mmode\u001b[0m\u001b[0;34m=\u001b[0m\u001b[0;34m\"r\"\u001b[0m\u001b[0;34m)\u001b[0m \u001b[0;32mas\u001b[0m \u001b[0mf\u001b[0m\u001b[0;34m:\u001b[0m\u001b[0;34m\u001b[0m\u001b[0m\n\u001b[0m\u001b[1;32m      5\u001b[0m         \u001b[0mcontent\u001b[0m \u001b[0;34m=\u001b[0m \u001b[0mf\u001b[0m\u001b[0;34m.\u001b[0m\u001b[0mreadlines\u001b[0m\u001b[0;34m(\u001b[0m\u001b[0;34m)\u001b[0m\u001b[0;34m\u001b[0m\u001b[0m\n\u001b[1;32m      6\u001b[0m     \u001b[0mcontent\u001b[0m \u001b[0;34m=\u001b[0m \u001b[0;34m[\u001b[0m\u001b[0mx\u001b[0m\u001b[0;34m.\u001b[0m\u001b[0mstrip\u001b[0m\u001b[0;34m(\u001b[0m\u001b[0;34m)\u001b[0m\u001b[0;34m.\u001b[0m\u001b[0msplit\u001b[0m\u001b[0;34m(\u001b[0m\u001b[0;34m' '\u001b[0m\u001b[0;34m)\u001b[0m \u001b[0;32mfor\u001b[0m \u001b[0mx\u001b[0m \u001b[0;32min\u001b[0m \u001b[0mcontent\u001b[0m\u001b[0;34m]\u001b[0m\u001b[0;34m\u001b[0m\u001b[0m\n",
      "\u001b[0;31mFileNotFoundError\u001b[0m: [Errno 2] No such file or directory: '/Users/davidhachuel/Google Drive/Cornell Tech/FALL_2017/CS_5854_NETWORKS_&_MARKETS/HW4/data/facebook_combined.txt'"
     ]
    }
   ],
   "source": [
    "dadpr = question8b()\n",
    "pr_sorted = sorted(pr.items(), key=lambda x:x[1])\n",
    "high_20_fb_pr_idx = [item[0] for item in pr_sorted[-20:]]\n",
    "low_20_fb_pr_idx = [item[0] for item in pr_sorted[0:20]]\n"
   ]
  },
  {
   "cell_type": "code",
   "execution_count": null,
   "metadata": {},
   "outputs": [],
   "source": [
    "pr = question8b()\n",
    "# Basic Box Plot\n",
    "plt.boxplot(list(pr.values()))\n",
    "plt.suptitle(\"Page Rank Distribution in Facebook Graph\")\n",
    "plt.show()"
   ]
  },
  {
   "cell_type": "code",
   "execution_count": null,
   "metadata": {},
   "outputs": [],
   "source": [
    "pr = question8b()\n",
    "FB_g = nx.DiGraph(\n",
    "\n",
    "facebook_graph(filename=\"~/data/facebook_combined.txt\").adjacency_matrix\n",
    ")\n",
    "\n",
    "nodes = list(pr.keys())\n",
    "pagerank = [pr[node] for node in nodes]\n",
    "avg_neighbor_degree = list(nx.average_neighbor_degree(G=FB_g,\n",
    "nodes=nodes).values())\n",
    "degree = list(nx.degree(G=FB_g, nbunch=nodes).values())"
   ]
  },
  {
   "cell_type": "code",
   "execution_count": null,
   "metadata": {},
   "outputs": [],
   "source": [
    "plt.figure(1)\n",
    "# Plot 1 : avg neighbor degree vs pagerank\n",
    "plt.subplot(121)\n",
    "plt.scatter(avg_neighbor_degree, pagerank, c=pagerank)\n",
    "plt.xlabel(\"Average Neighbor Degree\")\n",
    "plt.ylabel(\"Page Rank\")\n",
    "plt.title(\"\")\n",
    "plt.show()"
   ]
  },
  {
   "cell_type": "code",
   "execution_count": null,
   "metadata": {},
   "outputs": [],
   "source": [
    "# Plot 2 : degree vs pagerank\n",
    "plt.subplot(122)\n",
    "plt.scatter(degree, pagerank, c=pagerank)\n",
    "plt.xlabel(\"Node Degree\")\n",
    "plt.ylabel(\"Page Rank\")\n",
    "plt.title(\"\")\n",
    "plt.show()"
   ]
  },
  {
   "cell_type": "code",
   "execution_count": null,
   "metadata": {},
   "outputs": [],
   "source": []
  },
  {
   "cell_type": "code",
   "execution_count": null,
   "metadata": {},
   "outputs": [],
   "source": []
  },
  {
   "cell_type": "code",
   "execution_count": null,
   "metadata": {},
   "outputs": [],
   "source": []
  },
  {
   "cell_type": "code",
   "execution_count": null,
   "metadata": {},
   "outputs": [],
   "source": []
  }
 ],
 "metadata": {
  "kernelspec": {
   "display_name": "Python 3",
   "language": "python",
   "name": "python3"
  },
  "language_info": {
   "codemirror_mode": {
    "name": "ipython",
    "version": 3
   },
   "file_extension": ".py",
   "mimetype": "text/x-python",
   "name": "python",
   "nbconvert_exporter": "python",
   "pygments_lexer": "ipython3",
   "version": "3.6.3"
  }
 },
 "nbformat": 4,
 "nbformat_minor": 2
}
